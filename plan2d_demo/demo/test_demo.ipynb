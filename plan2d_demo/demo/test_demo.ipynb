{
 "cells": [
  {
   "cell_type": "code",
   "execution_count": null,
   "id": "751f1418",
   "metadata": {
    "vscode": {
     "languageId": "plaintext"
    }
   },
   "outputs": [],
   "source": [
    "\n",
    "# 주요 패키지 임포트\n"
   ]
  },
  {
   "cell_type": "code",
   "execution_count": null,
   "id": "62df059c",
   "metadata": {
    "vscode": {
     "languageId": "plaintext"
    }
   },
   "outputs": [],
   "source": [
    "# Rviz를 통해 원하는 위치에 대한 간략한 정보 얻기, set goal pos 사용"
   ]
  }
 ],
 "metadata": {
  "language_info": {
   "name": "python"
  }
 },
 "nbformat": 4,
 "nbformat_minor": 5
}
